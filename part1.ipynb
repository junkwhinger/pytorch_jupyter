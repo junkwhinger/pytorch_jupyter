{
  "nbformat": 4,
  "nbformat_minor": 0,
  "metadata": {
    "colab": {
      "name": "part1.ipynb",
      "version": "0.3.2",
      "views": {},
      "default_view": {},
      "provenance": [],
      "toc_visible": true
    },
    "kernelspec": {
      "display_name": "Python 3",
      "language": "python",
      "name": "python3"
    },
    "accelerator": "GPU"
  },
  "cells": [
    {
      "metadata": {
        "id": "sIfiIkSPolDh",
        "colab_type": "text"
      },
      "cell_type": "markdown",
      "source": [
        "## 노트북 환경 설정하기\n",
        "\n",
        "이 노트북 환경은 Google Colab에서 제공하는 인터랙티브 개발 환경입니다.\n",
        "\n",
        "- 먼저 상단 메뉴의 Runtime(런타임) > Change runtime type(런타임 유형변경) 을 눌러\n",
        "  - Runtime Type(런타임 유형)이 Python3로\n",
        "  - Hardware Accelerator를 GPU로 설정해주세요.\n",
        " \n",
        "오늘은 구글에서 제공하는 K80 GPU를 사용해 딥러닝을 돌려볼 겁니다.\n",
        "\n",
        "## 코드 실행하는 법\n",
        "코드를 입력하는 칸을 cell이라고 하며, 셀은 shift+enter로 실행할 수 있습니다.\n",
        "\n",
        "## 새로운 셀을 넣고 싶을때\n",
        "셀 사이에 마우스를 가져다대면 code / text 메뉴가 활성화됩니다.\n",
        "여기서 code를 선택하면 새로운 셀이 열립니다.\n",
        "\n",
        "## 셀을 지우고 싶을때\n",
        "셀을 마우스 좌클릭해서 활성화시키면 오른쪽 끝에 쓰레기통이 나옵니다. 그걸 누릅니다.\n",
        "\n",
        "## 처음부터 다시 시작하고 싶을때\n",
        "상단 메뉴의 Runtime(런타임) > Restart Runtime(런타임 재시작)을 누르시면 됩니다.\n",
        "\n",
        "\n",
        "  "
      ]
    },
    {
      "metadata": {
        "id": "pINNcAjtokXh",
        "colab_type": "code",
        "colab": {
          "autoexec": {
            "startup": false,
            "wait_interval": 0
          },
          "base_uri": "https://localhost:8080/",
          "height": 34
        },
        "outputId": "68b2531e-f41d-4357-a275-92419c5d2654",
        "executionInfo": {
          "status": "ok",
          "timestamp": 1527559793771,
          "user_tz": -540,
          "elapsed": 1456,
          "user": {
            "displayName": "Junsik Whang",
            "photoUrl": "//lh6.googleusercontent.com/-DkE8jXy03FI/AAAAAAAAAAI/AAAAAAAAANI/vd9Dy8eMliQ/s50-c-k-no/photo.jpg",
            "userId": "114960467352657332488"
          }
        }
      },
      "cell_type": "code",
      "source": [
        "print(\"hello world\")"
      ],
      "execution_count": 1,
      "outputs": [
        {
          "output_type": "stream",
          "text": [
            "hello world\n"
          ],
          "name": "stdout"
        }
      ]
    },
    {
      "metadata": {
        "id": "qLDhyc2ZLt1-",
        "colab_type": "text"
      },
      "cell_type": "markdown",
      "source": [
        "## 아래 코드를 실행시켜주세요."
      ]
    },
    {
      "metadata": {
        "id": "wZkXeM7NRaMA",
        "colab_type": "code",
        "colab": {
          "autoexec": {
            "startup": false,
            "wait_interval": 0
          },
          "base_uri": "https://localhost:8080/",
          "height": 34
        },
        "outputId": "33075f96-8d1a-4e1b-efef-ee3a1f585424",
        "executionInfo": {
          "status": "ok",
          "timestamp": 1527521264131,
          "user_tz": -540,
          "elapsed": 1874,
          "user": {
            "displayName": "Junsik Whang",
            "photoUrl": "//lh6.googleusercontent.com/-DkE8jXy03FI/AAAAAAAAAAI/AAAAAAAAANI/vd9Dy8eMliQ/s50-c-k-no/photo.jpg",
            "userId": "114960467352657332488"
          }
        }
      },
      "cell_type": "code",
      "source": [
        "!git clone https://github.com/junkwhinger/pytorch_jupyter "
      ],
      "execution_count": 1,
      "outputs": [
        {
          "output_type": "stream",
          "text": [
            "fatal: destination path 'pytorch_jupyter' already exists and is not an empty directory.\r\n"
          ],
          "name": "stdout"
        }
      ]
    },
    {
      "metadata": {
        "id": "GSvbRDZ4RhYB",
        "colab_type": "code",
        "colab": {
          "autoexec": {
            "startup": false,
            "wait_interval": 0
          },
          "base_uri": "https://localhost:8080/",
          "height": 34
        },
        "outputId": "5a2e8d13-e44b-4573-b852-8462cfbc98ac",
        "executionInfo": {
          "status": "ok",
          "timestamp": 1527521266820,
          "user_tz": -540,
          "elapsed": 1930,
          "user": {
            "displayName": "Junsik Whang",
            "photoUrl": "//lh6.googleusercontent.com/-DkE8jXy03FI/AAAAAAAAAAI/AAAAAAAAANI/vd9Dy8eMliQ/s50-c-k-no/photo.jpg",
            "userId": "114960467352657332488"
          }
        }
      },
      "cell_type": "code",
      "source": [
        "!ls pytorch_jupyter"
      ],
      "execution_count": 2,
      "outputs": [
        {
          "output_type": "stream",
          "text": [
            "best_model.pth.tar  data  Dockerfile  img  part1.ipynb\trequirements.txt\r\n"
          ],
          "name": "stdout"
        }
      ]
    },
    {
      "metadata": {
        "id": "0B32nqwBPf4N",
        "colab_type": "code",
        "colab": {
          "autoexec": {
            "startup": false,
            "wait_interval": 0
          },
          "base_uri": "https://localhost:8080/",
          "height": 207
        },
        "outputId": "6667fe58-9fa4-47b0-a3ee-e98e044253a2",
        "executionInfo": {
          "status": "ok",
          "timestamp": 1527521273697,
          "user_tz": -540,
          "elapsed": 6097,
          "user": {
            "displayName": "Junsik Whang",
            "photoUrl": "//lh6.googleusercontent.com/-DkE8jXy03FI/AAAAAAAAAAI/AAAAAAAAANI/vd9Dy8eMliQ/s50-c-k-no/photo.jpg",
            "userId": "114960467352657332488"
          }
        }
      },
      "cell_type": "code",
      "source": [
        "!pip3 install -U torch torchvision\n",
        "!pip install --no-cache-dir -I pillow==5.1.0"
      ],
      "execution_count": 3,
      "outputs": [
        {
          "output_type": "stream",
          "text": [
            "Requirement already up-to-date: torch in /usr/local/lib/python3.6/dist-packages (0.4.0)\r\n",
            "Requirement already up-to-date: torchvision in /usr/local/lib/python3.6/dist-packages (0.2.1)\n",
            "Requirement not upgraded as not directly required: pillow>=4.1.1 in /usr/local/lib/python3.6/dist-packages (from torchvision) (5.1.0)\n",
            "Requirement not upgraded as not directly required: six in /usr/local/lib/python3.6/dist-packages (from torchvision) (1.11.0)\n",
            "Requirement not upgraded as not directly required: numpy in /usr/local/lib/python3.6/dist-packages (from torchvision) (1.14.3)\n",
            "Collecting pillow==5.1.0\n",
            "\u001b[?25l  Downloading https://files.pythonhosted.org/packages/5f/4b/8b54ab9d37b93998c81b364557dff9f61972c0f650efa0ceaf470b392740/Pillow-5.1.0-cp36-cp36m-manylinux1_x86_64.whl (2.0MB)\n",
            "\u001b[K    100% |████████████████████████████████| 2.0MB 10.3MB/s \n",
            "\u001b[?25hInstalling collected packages: pillow\n",
            "Successfully installed pillow-5.1.0\n"
          ],
          "name": "stdout"
        }
      ]
    },
    {
      "metadata": {
        "id": "fReZ9N5RYd_f",
        "colab_type": "code",
        "colab": {
          "autoexec": {
            "startup": false,
            "wait_interval": 0
          },
          "base_uri": "https://localhost:8080/",
          "height": 34
        },
        "outputId": "86a737f8-d867-44ca-9583-4d350a1a8a04",
        "executionInfo": {
          "status": "ok",
          "timestamp": 1527521281274,
          "user_tz": -540,
          "elapsed": 586,
          "user": {
            "displayName": "Junsik Whang",
            "photoUrl": "//lh6.googleusercontent.com/-DkE8jXy03FI/AAAAAAAAAAI/AAAAAAAAANI/vd9Dy8eMliQ/s50-c-k-no/photo.jpg",
            "userId": "114960467352657332488"
          }
        }
      },
      "cell_type": "code",
      "source": [
        "import PIL\n",
        "print(PIL.__version__)"
      ],
      "execution_count": 4,
      "outputs": [
        {
          "output_type": "stream",
          "text": [
            "5.1.0\n"
          ],
          "name": "stdout"
        }
      ]
    },
    {
      "metadata": {
        "id": "36XKME5cL2CO",
        "colab_type": "code",
        "colab": {
          "autoexec": {
            "startup": false,
            "wait_interval": 0
          }
        }
      },
      "cell_type": "code",
      "source": [
        "# torch.__version__이 0.4.0이 나오면 준비완료입니다!\n",
        "import torch\n",
        "print(torch.__version__)"
      ],
      "execution_count": 0,
      "outputs": []
    },
    {
      "metadata": {
        "id": "dJUbkbpMjLnn",
        "colab_type": "text"
      },
      "cell_type": "markdown",
      "source": [
        "# 딥러닝: 손글씨 인식 웹앱 만들기"
      ]
    },
    {
      "metadata": {
        "id": "WokQ2Jp4PboI",
        "colab_type": "text"
      },
      "cell_type": "markdown",
      "source": [
        "## 손글씨 데이터셋 살펴보기\n",
        "이번 넥슨토크에서 사용할 손글씨 데이터셋은 MNIST라는 데이터셋으로, 딥러닝 분야의 유명 석학인 얀 르쿤(Yann Lecun)와 그 동료들이 공개한 데이터셋입니다.\n",
        "\n",
        "\n",
        "| ![image](https://docs.google.com/uc?export=download&id=1MIT9cFxssJaJqlFxuwb3HbDpwAnepQDQ) |\n",
        "| :--: |\n",
        "| * 얀 르쿤 * |\n",
        " \n",
        "MNIST 데이터셋은 0~9까지의 이미지와 숫자(정답)로, Training 데이터셋에는 6만개, Test 데이터셋은 1만개의 데이터로 구성되어 있습니다.\n",
        "\n",
        "딥러닝 오픈소스 라이브러리인 PyTorch에는 MNIST를 포함한 여러 데이터셋이 들어있습니다. 아래 코드를 실행해서 MNIST 데이터셋을 가져와봅시다 +_+\n"
      ]
    },
    {
      "metadata": {
        "id": "CBJ2EubgPboK",
        "colab_type": "text"
      },
      "cell_type": "markdown",
      "source": [
        "#### 필요한 라이브러리를 가져옵니다."
      ]
    },
    {
      "metadata": {
        "id": "yYbocKoqPboK",
        "colab_type": "code",
        "colab": {
          "autoexec": {
            "startup": false,
            "wait_interval": 0
          }
        }
      },
      "cell_type": "code",
      "source": [
        "import torch #파이토치\n",
        "import torchvision.datasets as vdatasets #데이터셋 모음\n",
        "import torchvision.utils as vutils #유틸리티함수\n",
        "import torchvision.transforms as vtransform #변환함수\n",
        "\n",
        "import numpy as np #수치연산\n",
        "import matplotlib.pyplot as plt #시각화\n",
        "%matplotlib inline"
      ],
      "execution_count": 0,
      "outputs": []
    },
    {
      "metadata": {
        "id": "W-hvsz5_PboN",
        "colab_type": "text"
      },
      "cell_type": "markdown",
      "source": [
        "#### PyTorch에서 데이터셋을 내려받습니다."
      ]
    },
    {
      "metadata": {
        "id": "4MYR2_EKPboO",
        "colab_type": "code",
        "colab": {
          "autoexec": {
            "startup": false,
            "wait_interval": 0
          }
        }
      },
      "cell_type": "code",
      "source": [
        "# 원본 데이터셋은 PIL 이미지인 관계로,\n",
        "# 각 이미지의 크기를 가로세로 28x28로 맞춰주고\n",
        "# 모델이 이해할 수 있도록 숫자로 바꿔주는 함수를 먼저 정의합니다.\n",
        "# 이를 바로 다음 셀에서 파라미터로 넘겨줍니다.\n",
        "transform = vtransform.Compose(\n",
        "    [vtransform.Resize((28,28))\n",
        "    ,vtransform.ToTensor()]\n",
        ")"
      ],
      "execution_count": 0,
      "outputs": []
    },
    {
      "metadata": {
        "id": "ulr1TK1tPboQ",
        "colab_type": "code",
        "colab": {
          "autoexec": {
            "startup": false,
            "wait_interval": 0
          }
        }
      },
      "cell_type": "code",
      "source": [
        "# training / test 데이터셋을 가져옵니다.\n",
        "# 딥러닝을 할때는 데이터를 batch로 잘게 쪼개서 학습합니다.\n",
        "# 배치를 편리하게 가져올 수 있도록 DataLoader에 넣어줍니다.\n",
        "# 여기서는 64개씩 가져오도록 설정해두었습니다.\n",
        "train_dataset = vdatasets.MNIST(root=\"data\", train=True, transform=transform, download=True)\n",
        "test_dataset = vdatasets.MNIST(root=\"data\", train=False, transform=transform, download=True)\n",
        "\n",
        "train_loader = torch.utils.data.DataLoader(train_dataset, batch_size=64, shuffle=True)\n",
        "test_loader = torch.utils.data.DataLoader(test_dataset, batch_size=64, shuffle=True)"
      ],
      "execution_count": 0,
      "outputs": []
    },
    {
      "metadata": {
        "id": "HKn58IvEPboS",
        "colab_type": "text"
      },
      "cell_type": "markdown",
      "source": [
        "#### 어떻게 생겼는지 살펴볼까요?"
      ]
    },
    {
      "metadata": {
        "id": "RQrm3cO_PboT",
        "colab_type": "code",
        "colab": {
          "autoexec": {
            "startup": false,
            "wait_interval": 0
          }
        }
      },
      "cell_type": "code",
      "source": [
        "images, labels = iter(train_loader).next()"
      ],
      "execution_count": 0,
      "outputs": []
    },
    {
      "metadata": {
        "id": "zjvskHuzPboV",
        "colab_type": "text"
      },
      "cell_type": "markdown",
      "source": [
        "데이터셋은 이미지와 그 답(숫자)로 되어있습니다.\n",
        "\n",
        "Pytorch에서는 데이터가 `Tensor`안에 저장됩니다. `Tensor`는 여러 차원으로 구성된 숫자 데이터라고 보시면 됩니다. `Tensor`의 모양을 살펴보려면 `.size()`를 실행합니다."
      ]
    },
    {
      "metadata": {
        "id": "o_sT4gaTPboW",
        "colab_type": "code",
        "colab": {
          "autoexec": {
            "startup": false,
            "wait_interval": 0
          },
          "base_uri": "https://localhost:8080/",
          "height": 34
        },
        "outputId": "fb659670-920d-4833-db4a-8a7d46eb1353",
        "executionInfo": {
          "status": "ok",
          "timestamp": 1527521296948,
          "user_tz": -540,
          "elapsed": 641,
          "user": {
            "displayName": "Junsik Whang",
            "photoUrl": "//lh6.googleusercontent.com/-DkE8jXy03FI/AAAAAAAAAAI/AAAAAAAAANI/vd9Dy8eMliQ/s50-c-k-no/photo.jpg",
            "userId": "114960467352657332488"
          }
        }
      },
      "cell_type": "code",
      "source": [
        "images.size()"
      ],
      "execution_count": 5,
      "outputs": [
        {
          "output_type": "execute_result",
          "data": {
            "text/plain": [
              "torch.Size([64, 1, 28, 28])"
            ]
          },
          "metadata": {
            "tags": []
          },
          "execution_count": 5
        }
      ]
    },
    {
      "metadata": {
        "id": "KFxKe9zkPboY",
        "colab_type": "text"
      },
      "cell_type": "markdown",
      "source": [
        "- 64 = Batch의 크기. 위에서 DataLoader를 설정할때 넣은 64입니다.\n",
        "- 1 = 컬러채널의 수. 흑백이미지이므로 채널이 1입니다. RGB 이미지는 3이죠.\n",
        "- 28 = 이미지의 세로 크기입니다.\n",
        "- 28 = 이미지의 가로 크기입니다."
      ]
    },
    {
      "metadata": {
        "id": "o_jPdSJbPboZ",
        "colab_type": "text"
      },
      "cell_type": "markdown",
      "source": [
        "#### 어떻게 생겼는지 눈으로 확인해봅시다."
      ]
    },
    {
      "metadata": {
        "id": "-yaNq-d7PboZ",
        "colab_type": "code",
        "colab": {
          "autoexec": {
            "startup": false,
            "wait_interval": 0
          }
        }
      },
      "cell_type": "code",
      "source": [
        "def imshow(img):\n",
        "    # Tensor를 numpy array로 바꿔줍니다.\n",
        "    img = img.numpy()\n",
        "    # matplotlib에서 인식할 수 있도록 컬러채널을 끝으로 옮깁니다.\n",
        "    transposed_img = np.transpose(img, (1, 2, 0))\n",
        "    \n",
        "    # 시각화합니다.\n",
        "    plt.imshow(np.squeeze(transposed_img))\n",
        "    plt.axis(\"off\")"
      ],
      "execution_count": 0,
      "outputs": []
    },
    {
      "metadata": {
        "id": "BnqAdGsTPboc",
        "colab_type": "code",
        "colab": {
          "autoexec": {
            "startup": false,
            "wait_interval": 0
          },
          "base_uri": "https://localhost:8080/",
          "height": 269
        },
        "outputId": "f4c77a83-41b0-4974-ae6e-bc7dafb9ab6a",
        "executionInfo": {
          "status": "ok",
          "timestamp": 1527521299294,
          "user_tz": -540,
          "elapsed": 720,
          "user": {
            "displayName": "Junsik Whang",
            "photoUrl": "//lh6.googleusercontent.com/-DkE8jXy03FI/AAAAAAAAAAI/AAAAAAAAANI/vd9Dy8eMliQ/s50-c-k-no/photo.jpg",
            "userId": "114960467352657332488"
          }
        }
      },
      "cell_type": "code",
      "source": [
        "#64개의 이미지를 그리드에 넣어 뿌려봅니다.\n",
        "#옆에 사람과 보시는 이미지가 다릅니다.\n",
        "#그 이유는 DataLoader에서 Shuffle=True를 설정했기 때문이죠.\n",
        "imshow(vutils.make_grid(images))"
      ],
      "execution_count": 7,
      "outputs": [
        {
          "output_type": "display_data",
          "data": {
            "image/png": "[encoded data removed]",
            "text/plain": [
              "<matplotlib.figure.Figure at 0x7f17cbb79f60>"
            ]
          },
          "metadata": {
            "tags": []
          }
        }
      ]
    },
    {
      "metadata": {
        "id": "pCCzeCNAPboe",
        "colab_type": "text"
      },
      "cell_type": "markdown",
      "source": [
        "#### 해봅시다!\n",
        "1) 이미지에 대응하는 숫자(정답)은 어떤 형태일까요? 숫자가 저장된 텐서를 찍어봅시다."
      ]
    },
    {
      "metadata": {
        "id": "jN2BGyR5Pboe",
        "colab_type": "code",
        "colab": {
          "autoexec": {
            "startup": false,
            "wait_interval": 0
          }
        }
      },
      "cell_type": "code",
      "source": [
        "#TODO hint: 앞서 정답이 저장된 텐서를 무슨 이름의 변수에 할당했었죠?"
      ],
      "execution_count": 0,
      "outputs": []
    },
    {
      "metadata": {
        "id": "2_zbEdc_Pboh",
        "colab_type": "text"
      },
      "cell_type": "markdown",
      "source": [
        "2) 트레이닝 데이터와 테스트 데이터는 각각 몇개의 데이터포인트를 가지고 있을까요? 찍어봅시다."
      ]
    },
    {
      "metadata": {
        "id": "Xx2uSwTRPboi",
        "colab_type": "code",
        "colab": {
          "autoexec": {
            "startup": false,
            "wait_interval": 0
          }
        }
      },
      "cell_type": "code",
      "source": [
        "#TODO hint: train_dataset의 attribute을 활용해봅시다.."
      ],
      "execution_count": 0,
      "outputs": []
    },
    {
      "metadata": {
        "id": "eUXvPBqjPbol",
        "colab_type": "text"
      },
      "cell_type": "markdown",
      "source": [
        "## 딥러닝 모델 설계하기\n",
        "\n",
        "이제 딥러닝 모델을 만들어볼텐데요, 먼저 가장 단순한 '히든 레이어가 없는' 신경망 모델을 만들어봅시다.\n",
        "\n",
        "#### 필요한 라이브러리를 가져옵니다."
      ]
    },
    {
      "metadata": {
        "id": "cYmm8g_5Pbom",
        "colab_type": "code",
        "colab": {
          "autoexec": {
            "startup": false,
            "wait_interval": 0
          }
        }
      },
      "cell_type": "code",
      "source": [
        "import torch.nn as nn\n",
        "import torch.nn.functional as F\n",
        "\n",
        "device = torch.device(\"cuda:0\" if torch.cuda.is_available() else \"cpu\")"
      ],
      "execution_count": 0,
      "outputs": []
    },
    {
      "metadata": {
        "id": "QLhQ3lBxPboo",
        "colab_type": "text"
      },
      "cell_type": "markdown",
      "source": [
        "만들 모델의 명세는 다음과 같습니다.\n",
        "\n",
        "![image](https://docs.google.com/uc?export=download&id=1aWKk8bIJVYJU-sxh5OOZNW_QpueF9yPr =250x)\n",
        "\n",
        "- 입력 레이어: 784개 뉴런\n",
        "- 출력 레이어: 10개 뉴런 (0~9)\n",
        "- 입력-출력을 바로 연결하는 하나의 레이어를 가진 모델.\n",
        "\n",
        "0부터 9까지 총 10개의 가짓수니까 출력 레이어의 뉴런 수가 10인건 알겠는데, 왜 입력 레이어의 뉴런은 784개일까요?\n",
        "\n",
        "그 이유는 우리가 가진 개별 이미지의 크기가 28x28이기 때문입니다.\n",
        "\n",
        "지금 우리가 만들려는 모델은 가장 단순한 모델로, 28x28 이미지를 한줄로 길게 늘어뜨릴 겁니다. 그러면 28x28=784로, 하나의 이미지당 784개의 픽셀값을 얻게 됩니다."
      ]
    },
    {
      "metadata": {
        "id": "2Excw3K3Pbop",
        "colab_type": "code",
        "colab": {
          "autoexec": {
            "startup": false,
            "wait_interval": 0
          },
          "base_uri": "https://localhost:8080/",
          "height": 34
        },
        "outputId": "adb096f9-69ce-4de2-c5ad-1b1fd2df9270",
        "executionInfo": {
          "status": "ok",
          "timestamp": 1527521303119,
          "user_tz": -540,
          "elapsed": 557,
          "user": {
            "displayName": "Junsik Whang",
            "photoUrl": "//lh6.googleusercontent.com/-DkE8jXy03FI/AAAAAAAAAAI/AAAAAAAAANI/vd9Dy8eMliQ/s50-c-k-no/photo.jpg",
            "userId": "114960467352657332488"
          }
        }
      },
      "cell_type": "code",
      "source": [
        "# 이미지 1개의 차원 (1 x 28 x 28)\n",
        "images[0].size()"
      ],
      "execution_count": 11,
      "outputs": [
        {
          "output_type": "execute_result",
          "data": {
            "text/plain": [
              "torch.Size([1, 28, 28])"
            ]
          },
          "metadata": {
            "tags": []
          },
          "execution_count": 11
        }
      ]
    },
    {
      "metadata": {
        "id": "EjildfioPboq",
        "colab_type": "code",
        "colab": {
          "autoexec": {
            "startup": false,
            "wait_interval": 0
          },
          "base_uri": "https://localhost:8080/",
          "height": 34
        },
        "outputId": "155ceaab-d804-4b8f-e0e0-99441cb01a90",
        "executionInfo": {
          "status": "ok",
          "timestamp": 1527521304076,
          "user_tz": -540,
          "elapsed": 566,
          "user": {
            "displayName": "Junsik Whang",
            "photoUrl": "//lh6.googleusercontent.com/-DkE8jXy03FI/AAAAAAAAAAI/AAAAAAAAANI/vd9Dy8eMliQ/s50-c-k-no/photo.jpg",
            "userId": "114960467352657332488"
          }
        }
      },
      "cell_type": "code",
      "source": [
        "# 전체 배치(64개 이미지)는 이렇게 생겼었죠.\n",
        "images.size()"
      ],
      "execution_count": 12,
      "outputs": [
        {
          "output_type": "execute_result",
          "data": {
            "text/plain": [
              "torch.Size([64, 1, 28, 28])"
            ]
          },
          "metadata": {
            "tags": []
          },
          "execution_count": 12
        }
      ]
    },
    {
      "metadata": {
        "id": "wjOyx64wPbot",
        "colab_type": "text"
      },
      "cell_type": "markdown",
      "source": [
        "`.view(원하는 차원)`를 사용하면 텐서를 원하는 차원으로 변형할 수 있습니다. `-1`을 넘기는 차원은 알아서 계산이 됩니다. (배치, 784) 차원으로 바꿔봅시다."
      ]
    },
    {
      "metadata": {
        "id": "NhJhM0f7Pbot",
        "colab_type": "code",
        "colab": {
          "autoexec": {
            "startup": false,
            "wait_interval": 0
          },
          "base_uri": "https://localhost:8080/",
          "height": 34
        },
        "outputId": "aab4e21c-d241-4e03-d411-4075323c99b4",
        "executionInfo": {
          "status": "ok",
          "timestamp": 1527521305064,
          "user_tz": -540,
          "elapsed": 634,
          "user": {
            "displayName": "Junsik Whang",
            "photoUrl": "//lh6.googleusercontent.com/-DkE8jXy03FI/AAAAAAAAAAI/AAAAAAAAANI/vd9Dy8eMliQ/s50-c-k-no/photo.jpg",
            "userId": "114960467352657332488"
          }
        }
      },
      "cell_type": "code",
      "source": [
        "images.view(-1, 784).size()"
      ],
      "execution_count": 13,
      "outputs": [
        {
          "output_type": "execute_result",
          "data": {
            "text/plain": [
              "torch.Size([64, 784])"
            ]
          },
          "metadata": {
            "tags": []
          },
          "execution_count": 13
        }
      ]
    },
    {
      "metadata": {
        "id": "y_KHAmxMPbow",
        "colab_type": "text"
      },
      "cell_type": "markdown",
      "source": [
        "#### Simple_DNN 구현하기\n",
        "PyTorch에서 모델을 구현하는 방법은 여럿이 있지만, 클래스를 사용하면 쉽게 모델을 구현할 수 있습니다.\n",
        "\n",
        "보통 `__init__`과 `forward` 함수를 구현합니다.\n",
        "- init: 딥러닝 모델에서 사용할 여러 레이어를 정의합니다.\n",
        "- foward: 실제 연산이 이루어지는 부분으로 정의한 레이어를 사용하여 최종 결과를 반환합니다."
      ]
    },
    {
      "metadata": {
        "id": "PRBqXSs3Pbox",
        "colab_type": "code",
        "colab": {
          "autoexec": {
            "startup": false,
            "wait_interval": 0
          }
        }
      },
      "cell_type": "code",
      "source": [
        "class SimpleDNN(nn.Module):\n",
        "    def __init__(self):\n",
        "        super(SimpleDNN, self).__init__()\n",
        "        # 784 => 10\n",
        "        self.fc = nn.Linear(784, 10)\n",
        "         \n",
        "    def forward(self, inputs):\n",
        "        # 64x1x28x28 => 64x784\n",
        "        x = inputs.view(-1, 784)\n",
        "         \n",
        "        # fully connected\n",
        "        x = self.fc(x)\n",
        "        return x"
      ],
      "execution_count": 0,
      "outputs": []
    },
    {
      "metadata": {
        "id": "4ptH78cHPbo0",
        "colab_type": "text"
      },
      "cell_type": "markdown",
      "source": [
        "결과가 어떻게 떨어지는지 확인해볼까요?"
      ]
    },
    {
      "metadata": {
        "id": "aQAXgLqtPbo1",
        "colab_type": "code",
        "colab": {
          "autoexec": {
            "startup": false,
            "wait_interval": 0
          }
        }
      },
      "cell_type": "code",
      "source": [
        "# 모델 인스턴스를 하나 만듭니다.\n",
        "model = SimpleDNN()"
      ],
      "execution_count": 0,
      "outputs": []
    },
    {
      "metadata": {
        "id": "wUBVo60lPbo3",
        "colab_type": "code",
        "colab": {
          "autoexec": {
            "startup": false,
            "wait_interval": 0
          }
        }
      },
      "cell_type": "code",
      "source": [
        "# model을 함수처럼 사용하면 .forward()함수가 실행됩니다.\n",
        "result = model(images)"
      ],
      "execution_count": 0,
      "outputs": []
    },
    {
      "metadata": {
        "id": "TuDPBO4YPbo5",
        "colab_type": "code",
        "colab": {
          "autoexec": {
            "startup": false,
            "wait_interval": 0
          },
          "base_uri": "https://localhost:8080/",
          "height": 34
        },
        "outputId": "fe366c87-2120-4d2a-c2cf-9faead63e8de",
        "executionInfo": {
          "status": "ok",
          "timestamp": 1527521309328,
          "user_tz": -540,
          "elapsed": 649,
          "user": {
            "displayName": "Junsik Whang",
            "photoUrl": "//lh6.googleusercontent.com/-DkE8jXy03FI/AAAAAAAAAAI/AAAAAAAAANI/vd9Dy8eMliQ/s50-c-k-no/photo.jpg",
            "userId": "114960467352657332488"
          }
        }
      },
      "cell_type": "code",
      "source": [
        "# 입력한 64개의 이미지들에 대한 0-9까지의 확률값이 반환되었습니다.\n",
        "result.size()"
      ],
      "execution_count": 17,
      "outputs": [
        {
          "output_type": "execute_result",
          "data": {
            "text/plain": [
              "torch.Size([64, 10])"
            ]
          },
          "metadata": {
            "tags": []
          },
          "execution_count": 17
        }
      ]
    },
    {
      "metadata": {
        "id": "93KT8867Pbo7",
        "colab_type": "code",
        "colab": {
          "autoexec": {
            "startup": false,
            "wait_interval": 0
          },
          "base_uri": "https://localhost:8080/",
          "height": 51
        },
        "outputId": "96574b6c-7f9f-4277-95e3-f7bd1d6a22fa",
        "executionInfo": {
          "status": "ok",
          "timestamp": 1527521310232,
          "user_tz": -540,
          "elapsed": 531,
          "user": {
            "displayName": "Junsik Whang",
            "photoUrl": "//lh6.googleusercontent.com/-DkE8jXy03FI/AAAAAAAAAAI/AAAAAAAAANI/vd9Dy8eMliQ/s50-c-k-no/photo.jpg",
            "userId": "114960467352657332488"
          }
        }
      },
      "cell_type": "code",
      "source": [
        "# 첫번째 결과를 볼까요?\n",
        "result[0]"
      ],
      "execution_count": 18,
      "outputs": [
        {
          "output_type": "execute_result",
          "data": {
            "text/plain": [
              "tensor([-0.2084, -0.1712, -0.0201,  0.0522,  0.0242,  0.0882,  0.1947,\n",
              "         0.1191,  0.1059,  0.0657])"
            ]
          },
          "metadata": {
            "tags": []
          },
          "execution_count": 18
        }
      ]
    },
    {
      "metadata": {
        "id": "HsGjVXBQPbo9",
        "colab_type": "code",
        "colab": {
          "autoexec": {
            "startup": false,
            "wait_interval": 0
          },
          "base_uri": "https://localhost:8080/",
          "height": 265
        },
        "outputId": "fc799328-2109-40ab-e4f9-033ebc16c1ce",
        "executionInfo": {
          "status": "ok",
          "timestamp": 1527521311704,
          "user_tz": -540,
          "elapsed": 770,
          "user": {
            "displayName": "Junsik Whang",
            "photoUrl": "//lh6.googleusercontent.com/-DkE8jXy03FI/AAAAAAAAAAI/AAAAAAAAANI/vd9Dy8eMliQ/s50-c-k-no/photo.jpg",
            "userId": "114960467352657332488"
          }
        }
      },
      "cell_type": "code",
      "source": [
        "plt.bar(np.arange(0, 10), result[0].data.numpy())\n",
        "plt.show()"
      ],
      "execution_count": 19,
      "outputs": [
        {
          "output_type": "display_data",
          "data": {
            "image/png": "[encoded data removed]",
            "text/plain": [
              "<matplotlib.figure.Figure at 0x7f17cb985b00>"
            ]
          },
          "metadata": {
            "tags": []
          }
        }
      ]
    },
    {
      "metadata": {
        "id": "8WFTM-3yPbo-",
        "colab_type": "code",
        "colab": {
          "autoexec": {
            "startup": false,
            "wait_interval": 0
          },
          "base_uri": "https://localhost:8080/",
          "height": 34
        },
        "outputId": "c389f53a-4d85-4aac-96df-c6853ec7bd92",
        "executionInfo": {
          "status": "ok",
          "timestamp": 1527521312980,
          "user_tz": -540,
          "elapsed": 624,
          "user": {
            "displayName": "Junsik Whang",
            "photoUrl": "//lh6.googleusercontent.com/-DkE8jXy03FI/AAAAAAAAAAI/AAAAAAAAANI/vd9Dy8eMliQ/s50-c-k-no/photo.jpg",
            "userId": "114960467352657332488"
          }
        }
      },
      "cell_type": "code",
      "source": [
        "# 가장 확률이 높게 나온 것은... \n",
        "# argmax는 가장 높은 값을 지닌 인덱스를 찾아줍니다.\n",
        "result[0].argmax()"
      ],
      "execution_count": 20,
      "outputs": [
        {
          "output_type": "execute_result",
          "data": {
            "text/plain": [
              "tensor(6)"
            ]
          },
          "metadata": {
            "tags": []
          },
          "execution_count": 20
        }
      ]
    },
    {
      "metadata": {
        "id": "T6x_qjvtPbpA",
        "colab_type": "code",
        "colab": {
          "autoexec": {
            "startup": false,
            "wait_interval": 0
          },
          "base_uri": "https://localhost:8080/",
          "height": 265
        },
        "outputId": "3315973d-d0a3-4117-efaa-564485b8a409",
        "executionInfo": {
          "status": "ok",
          "timestamp": 1527521313942,
          "user_tz": -540,
          "elapsed": 607,
          "user": {
            "displayName": "Junsik Whang",
            "photoUrl": "//lh6.googleusercontent.com/-DkE8jXy03FI/AAAAAAAAAAI/AAAAAAAAANI/vd9Dy8eMliQ/s50-c-k-no/photo.jpg",
            "userId": "114960467352657332488"
          }
        }
      },
      "cell_type": "code",
      "source": [
        "# 하지만 실제 이미지는...\n",
        "imshow(vutils.make_grid(images[0]))"
      ],
      "execution_count": 21,
      "outputs": [
        {
          "output_type": "display_data",
          "data": {
            "image/png": "[encoded data removed]",
            "text/plain": [
              "<matplotlib.figure.Figure at 0x7f17cbb1ea20>"
            ]
          },
          "metadata": {
            "tags": []
          }
        }
      ]
    },
    {
      "metadata": {
        "id": "_-AuNy3_PbpC",
        "colab_type": "text"
      },
      "cell_type": "markdown",
      "source": [
        "학습이 전혀되지 않은 상태이니 맞출 수 없는건 당연합니다.  \n",
        "설계한 모델을 어떻게 학습할지 배워봅시다!"
      ]
    },
    {
      "metadata": {
        "id": "xNdaKEWaPbpD",
        "colab_type": "text"
      },
      "cell_type": "markdown",
      "source": [
        "### 해봅시다! 좀더 복잡한 딥 뉴럴네트워크 만들기\n",
        "\n",
        "이번에는 조금 더 복잡한 모델을 만들어봅시다.\n",
        "- 입력 레이어: 뉴런 784개\n",
        "- 히든 레이어1: 뉴런 256개\n",
        "- 히든 레이어2: 뉴런 32개\n",
        "- 출력 레이어: 뉴런 10개\n",
        "\n",
        "![image](https://docs.google.com/uc?export=download&id=1BwN1Ica-76_qot70UQczqqf_DU2SgXRk =250x)\n",
        "\n",
        "각 히든 레이어 다음에는 relu 액티베이션 함수를 사용합니다.\n",
        "forward 함수에서 x = F.relu(x)와 같은 형태로 설정합니다.\n",
        "\n",
        "아래 DNN 클래스에서 히든레이어 2 부분을 채워넣어보세요"
      ]
    },
    {
      "metadata": {
        "id": "emn1PY2bPbpD",
        "colab_type": "code",
        "colab": {
          "autoexec": {
            "startup": false,
            "wait_interval": 0
          }
        }
      },
      "cell_type": "code",
      "source": [
        "class DNN(nn.Module):\n",
        "    def __init__(self):\n",
        "        super(DNN, self).__init__()\n",
        "        self.fc1 = nn.Linear(784, 256)\n",
        "        \n",
        "        #TODO hint: nn.Linear(..., ...)\n",
        "        self.fc2 = None\n",
        "        \n",
        "        self.last_layer = nn.Linear(32, 10)\n",
        "         \n",
        "    def forward(self, inputs):\n",
        "        x = inputs.view(-1, 784)\n",
        "        \n",
        "        x = self.fc1(x)\n",
        "        x = F.relu(x)\n",
        "        \n",
        "        #TODO\n",
        "        x = None #fc\n",
        "        x = None #relu\n",
        "        \n",
        "        x = self.last_layer(x)\n",
        "        return x"
      ],
      "execution_count": 0,
      "outputs": []
    },
    {
      "metadata": {
        "id": "eokcNP89PbpG",
        "colab_type": "code",
        "colab": {
          "autoexec": {
            "startup": false,
            "wait_interval": 0
          }
        }
      },
      "cell_type": "code",
      "source": [
        "model = DNN()"
      ],
      "execution_count": 0,
      "outputs": []
    },
    {
      "metadata": {
        "id": "oyKsCSvzPbpJ",
        "colab_type": "code",
        "colab": {
          "autoexec": {
            "startup": false,
            "wait_interval": 0
          },
          "base_uri": "https://localhost:8080/",
          "height": 34
        },
        "outputId": "b2ad98cc-0eac-4ecd-d6b2-3a464cb9f985",
        "executionInfo": {
          "status": "ok",
          "timestamp": 1527521316630,
          "user_tz": -540,
          "elapsed": 741,
          "user": {
            "displayName": "Junsik Whang",
            "photoUrl": "//lh6.googleusercontent.com/-DkE8jXy03FI/AAAAAAAAAAI/AAAAAAAAANI/vd9Dy8eMliQ/s50-c-k-no/photo.jpg",
            "userId": "114960467352657332488"
          }
        }
      },
      "cell_type": "code",
      "source": [
        "# 에러가 나지 않고 정상적으로 (64, 10) 크기의 텐서가 출력되나요?\n",
        "try:\n",
        "    result = model(images)\n",
        "    print(result.size())\n",
        "except:\n",
        "    print(\"error!\")"
      ],
      "execution_count": 24,
      "outputs": [
        {
          "output_type": "stream",
          "text": [
            "error!\n"
          ],
          "name": "stdout"
        }
      ]
    },
    {
      "metadata": {
        "id": "32RXXwj5PbpP",
        "colab_type": "text"
      },
      "cell_type": "markdown",
      "source": [
        "## 학습 설계하기\n",
        "\n",
        "### Loss\n",
        "출력한 값에 대해서 실제 값과의 오차를 계산해야합니다.\n",
        "오차는 CrossEntropyLoss에 예측값과 실제값을 넘겨서 구하는데,\n",
        "PyTorch에서는 다음과 같이 어떤 오차함수를 쓸지만 정하면 됩니다."
      ]
    },
    {
      "metadata": {
        "id": "TygsM7HJPbpQ",
        "colab_type": "code",
        "colab": {
          "autoexec": {
            "startup": false,
            "wait_interval": 0
          }
        }
      },
      "cell_type": "code",
      "source": [
        "loss_function = nn.CrossEntropyLoss()"
      ],
      "execution_count": 0,
      "outputs": []
    },
    {
      "metadata": {
        "id": "f2uaUpkmPbpS",
        "colab_type": "text"
      },
      "cell_type": "markdown",
      "source": [
        "### Optimizer\n",
        "Loss를 구한다음, Loss를 사용해서 파라미터를 업데이트해야 합니다.\n",
        "PyTorch에서는 optim을 사용해서 모델 파라미터를 업데이트하는 여러 옵티마이징 함수를 사용할 수 있습니다. 가장 널리 쓰이는 함수 중 하나인 Adam 옵티마이저를 사용해봅시다!\n",
        "\n",
        "옵티마이저 함수에는 튜닝할 모델의 파라미터와 learning rate를 파라미터로 넘겨줍니다."
      ]
    },
    {
      "metadata": {
        "id": "ChbRzZZQPbpT",
        "colab_type": "code",
        "colab": {
          "autoexec": {
            "startup": false,
            "wait_interval": 0
          }
        }
      },
      "cell_type": "code",
      "source": [
        "import torch.optim as optim\n",
        "\n",
        "optimizer = optim.Adam(model.parameters(), lr=1e-4)"
      ],
      "execution_count": 0,
      "outputs": []
    },
    {
      "metadata": {
        "id": "fRhDY4xVPbpW",
        "colab_type": "text"
      },
      "cell_type": "markdown",
      "source": [
        "### Metrics\n",
        "\n",
        "Epoch과 batch를 돌면서 학습을 진행할 것인데요, 그 과정에서 학습이 잘 되고 있는지를 판단해야 할 기준이 필요합니다. 정확한 분류모델은 출력값과 예측값의 오차(loss)가 작은 모델이겠죠? 그리고 모델이 최종적으로 출력하는 숫자와 정답 숫자가 얼마나 같은지를 accuracy를 통해 측정해봅시다.\n",
        "\n",
        "먼저 학습 도중 발생하는 loss와 accuracy를 편리하게 저장하기 위해 다음과 같은 정보 저장용 클래스를 하나 정의합니다."
      ]
    },
    {
      "metadata": {
        "id": "bBWgtfVYPbpX",
        "colab_type": "code",
        "colab": {
          "autoexec": {
            "startup": false,
            "wait_interval": 0
          }
        }
      },
      "cell_type": "code",
      "source": [
        "class AverageMeter(object):\n",
        "    def __init__(self):\n",
        "        self.reset()\n",
        "        \n",
        "    def reset(self):\n",
        "        self.val = 0\n",
        "        self.avg = 0\n",
        "        self.sum = 0\n",
        "        self.count = 0\n",
        "        \n",
        "    def update(self, val, n=1):\n",
        "        self.val = val\n",
        "        self.sum += val * n\n",
        "        self.count += n\n",
        "        self.avg = self.sum / self.count"
      ],
      "execution_count": 0,
      "outputs": []
    },
    {
      "metadata": {
        "id": "41XJqjAzPbpa",
        "colab_type": "text"
      },
      "cell_type": "markdown",
      "source": [
        "### 학습시키기\n",
        "\n",
        "먼저 데이터 배치를 처음부터 끝까지 돌면서 학습하는 함수를 구현해봅시다.\n",
        "\n",
        "1. loss, accuracy 메트릭을 정의합니다.\n",
        "2. 모델을 학습 모드로 설정합니다.\n",
        "3. for loop을 사용해 train_dataloader에서 1개 배치를 가져옵니다.\n",
        "  - optimizer의 미분값을 초기화합니다.\n",
        "  - 이미지를 모델에 넣어 예측값을 출력합니다.\n",
        "  - 예측값과 실제값의 loss를 구합니다.\n",
        "  - loss를 저장합니다.\n",
        "  - accuracy를 구하고 accuracy를 저장합니다.\n",
        "  - 모델 파라미터에 대한 loss의 미분값을 계산합니다.\n",
        "  - optimizer를 사용해 모델 파라미터를 업데이트합니다."
      ]
    },
    {
      "metadata": {
        "id": "l-HsctW4Pbpb",
        "colab_type": "code",
        "colab": {
          "autoexec": {
            "startup": false,
            "wait_interval": 0
          }
        }
      },
      "cell_type": "code",
      "source": [
        "def train(loader, model, loss_function, optimizer, epoch):\n",
        "    #loss, accuracy 메트릭을 정의합니다.\n",
        "    losses = AverageMeter()\n",
        "    accuracy = AverageMeter()\n",
        "    \n",
        "    #모델을 학습 모드로 설정합니다.\n",
        "    model.train()\n",
        "    \n",
        "    for i, (inputs, targets) in enumerate(loader):\n",
        "        #train_dataloader에서 1개 배치를 가져옵니다.\n",
        "        #.to(device)로 cpu, gpu 환경으로 경로를 설정합니다.\n",
        "        #보통 랩탑에는 딥러닝 연산이 가능한 gpu가 없어,\n",
        "        #기본으로 cpu 환경에서 학습을 수행합니다.\n",
        "        inputs, targets = inputs.to(device), targets.to(device)\n",
        "        \n",
        "        #optimizer의 미분값을 초기화합니다.\n",
        "        optimizer.zero_grad()\n",
        "        \n",
        "        #이미지를 모델에 넣어 예측값을 출력합니다.\n",
        "        outputs = model(inputs)\n",
        "        \n",
        "        #예측값과 실제값의 loss를 구합니다.\n",
        "        batch_loss = loss_function(outputs, targets)\n",
        "        \n",
        "        #loss를 저장합니다.\n",
        "        #batch_loss가 Tensor이므로 .item()을 써서\n",
        "        #값만 빼옵니다.\n",
        "        losses.update(batch_loss.item())\n",
        "        \n",
        "        #확률이 가장 높은 숫자를 선택합니다.\n",
        "        preds = outputs.argmax(dim=1)\n",
        "        #accuracy를 구합니다.\n",
        "        batch_accuracy = preds.eq(targets).sum().item() / inputs.size(0)\n",
        "        #accuracy를 업데이트합니다.\n",
        "        accuracy.update(batch_accuracy)\n",
        "        \n",
        "        #미분값(gradient)를 구합니다.\n",
        "        batch_loss.backward()\n",
        "        \n",
        "        #모델의 파라미터를 업데이트합니다.\n",
        "        optimizer.step()\n",
        "        \n",
        "    #Epoch이 끝나면 loss와 accuracy의 평균값을 출력합니다.\n",
        "    print('[Epoch: {0:2d}]\\t'\n",
        "          'Loss {losses.avg:.4f}\\t'\n",
        "          'Acc {accuracy.avg:.4f}\\t'.format(epoch, losses=losses, accuracy=accuracy))"
      ],
      "execution_count": 0,
      "outputs": []
    },
    {
      "metadata": {
        "id": "_KG_Z_D2qC8G",
        "colab_type": "text"
      },
      "cell_type": "markdown",
      "source": [
        "### 자, 학습을 실행해볼까요?"
      ]
    },
    {
      "metadata": {
        "id": "bXi1nL2sp4o9",
        "colab_type": "code",
        "colab": {
          "autoexec": {
            "startup": false,
            "wait_interval": 0
          },
          "base_uri": "https://localhost:8080/",
          "height": 102
        },
        "outputId": "b65c1502-8b1a-4ddd-de9e-b038bb2bd437",
        "executionInfo": {
          "status": "ok",
          "timestamp": 1527521368388,
          "user_tz": -540,
          "elapsed": 47839,
          "user": {
            "displayName": "Junsik Whang",
            "photoUrl": "//lh6.googleusercontent.com/-DkE8jXy03FI/AAAAAAAAAAI/AAAAAAAAANI/vd9Dy8eMliQ/s50-c-k-no/photo.jpg",
            "userId": "114960467352657332488"
          }
        }
      },
      "cell_type": "code",
      "source": [
        "# SimpleDNN으로 돌려봅시다.\n",
        "model = SimpleDNN().to(device)  \n",
        "\n",
        "# loss 함수와 optimizer를 지정합니다.\n",
        "loss_function = nn.CrossEntropyLoss()\n",
        "optimizer = optim.Adam(model.parameters(), lr=1e-4)\n",
        "\n",
        "EPOCHS = 5\n",
        "for epoch in range(EPOCHS):\n",
        "    # 학습을 수행합니다.\n",
        "    train(train_loader, model, loss_function, optimizer, epoch)"
      ],
      "execution_count": 29,
      "outputs": [
        {
          "output_type": "stream",
          "text": [
            "[Epoch:  0]\tLoss 1.3724\tAcc 0.7344\t\n",
            "[Epoch:  1]\tLoss 0.7142\tAcc 0.8520\t\n",
            "[Epoch:  2]\tLoss 0.5424\tAcc 0.8738\t\n",
            "[Epoch:  3]\tLoss 0.4636\tAcc 0.8847\t\n",
            "[Epoch:  4]\tLoss 0.4181\tAcc 0.8918\t\n"
          ],
          "name": "stdout"
        }
      ]
    },
    {
      "metadata": {
        "id": "Sm_im2SKPbpd",
        "colab_type": "text"
      },
      "cell_type": "markdown",
      "source": [
        "## 평가하기\n",
        "파라미터 최적화에 사용되지 않은 Test 데이터셋을 사용해서 한 에폭이 끝날때마다 모델 성능을 평가하는 함수를 만들어봅시다.\n",
        "\n",
        "위에서 작성한 train 함수와 매우 유사하지만, 다음과 같은 차이점이 있습니다.\n",
        "\n",
        "1) 모델이 eval모드임을 지정해줘야 합니다.   \n",
        "  - model.train() => model.eval()\n",
        "  \n",
        "2) 파라미터를 업데이트하지 않으므로, 다음과 같은 내용이 필요없습니다.\n",
        "  - 미분값을 초기화하거나 업데이트하지않습니다.\n",
        "  - optimizer가 필요 없습니다.\n",
        "  \n",
        "위 명세를 바탕으로 evaluate 함수를 아래에 작성해봅시다."
      ]
    },
    {
      "metadata": {
        "id": "E8xacX-SPbpd",
        "colab_type": "code",
        "colab": {
          "autoexec": {
            "startup": false,
            "wait_interval": 0
          }
        }
      },
      "cell_type": "code",
      "source": [
        "def evaluate(loader, model, loss_function, epoch):\n",
        "    losses = AverageMeter()\n",
        "    accuracy = AverageMeter()\n",
        "    \n",
        "    #TODO 모델을 eval 모드로 바꿔줍니다.\n",
        "    model.train()\n",
        "    \n",
        "    #TODO 여기서 필요없는 라인이 3줄이 있습니다. 주석처리해봅시다.\n",
        "    for i, (inputs, targets) in enumerate(loader):\n",
        "        inputs, targets = inputs.to(device), targets.to(device)\n",
        "        \n",
        "        optimizer.zero_grad()\n",
        "        \n",
        "        outputs = model(inputs)\n",
        "        \n",
        "        batch_loss = loss_function(outputs, targets)\n",
        "        \n",
        "        losses.update(batch_loss.item())\n",
        "        \n",
        "        preds = outputs.argmax(dim=1)\n",
        "        batch_accuracy = preds.eq(targets).sum().item() / inputs.size(0)\n",
        "        accuracy.update(batch_accuracy)\n",
        "        \n",
        "        batch_loss.backward()\n",
        "        \n",
        "        optimizer.step()\n",
        "        \n",
        "    #Epoch이 끝나면 loss와 accuracy의 평균값을 출력합니다.\n",
        "    print('[Val Epoch: {0:2d}]\\t'\n",
        "          'Loss {losses.avg:.4f}\\t'\n",
        "          'Acc {accuracy.avg:.4f}\\t'.format(epoch, losses=losses, accuracy=accuracy))"
      ],
      "execution_count": 0,
      "outputs": []
    },
    {
      "metadata": {
        "id": "Wkkhcvc3Pbpf",
        "colab_type": "text"
      },
      "cell_type": "markdown",
      "source": [
        "## 전체 학습시키기"
      ]
    },
    {
      "metadata": {
        "id": "-u4TEh3kPbph",
        "colab_type": "code",
        "colab": {
          "autoexec": {
            "startup": false,
            "wait_interval": 0
          }
        }
      },
      "cell_type": "code",
      "source": [
        "# 여러 모델을 돌릴텐데, 매번 같은 데이터를 사용하도록\n",
        "# 데이터셋을 가져오는 함수를 만듭니다.\n",
        "def initialize_dataset():\n",
        "    train_dataset = vdatasets.MNIST(root=\"data\", train=True, transform=transform, download=True)\n",
        "    test_dataset = vdatasets.MNIST(root=\"data\", train=False, transform=transform, download=True)\n",
        "\n",
        "    train_loader = torch.utils.data.DataLoader(train_dataset, batch_size=64, shuffle=True)\n",
        "    test_loader = torch.utils.data.DataLoader(test_dataset, batch_size=64, shuffle=True)\n",
        "    \n",
        "    return train_loader, test_loader"
      ],
      "execution_count": 0,
      "outputs": []
    },
    {
      "metadata": {
        "id": "x4zOKhkKPbpj",
        "colab_type": "code",
        "colab": {
          "autoexec": {
            "startup": false,
            "wait_interval": 0
          },
          "base_uri": "https://localhost:8080/",
          "height": 272
        },
        "outputId": "653673f6-9062-43b0-9aae-b58eb5de5b64",
        "executionInfo": {
          "status": "ok",
          "timestamp": 1527521423338,
          "user_tz": -540,
          "elapsed": 50644,
          "user": {
            "displayName": "Junsik Whang",
            "photoUrl": "//lh6.googleusercontent.com/-DkE8jXy03FI/AAAAAAAAAAI/AAAAAAAAANI/vd9Dy8eMliQ/s50-c-k-no/photo.jpg",
            "userId": "114960467352657332488"
          }
        }
      },
      "cell_type": "code",
      "source": [
        "# 데이터셋을 초기화합니다.\n",
        "train_loader, test_loader = initialize_dataset()\n",
        "\n",
        "# 모델을 지정합니다. 기본 모델인 SimpleDNN으로 해보겠습니다.\n",
        "model = SimpleDNN().to(device)  \n",
        "\n",
        "# loss 함수와 optimizer를 지정합니다.\n",
        "loss_function = nn.CrossEntropyLoss()\n",
        "optimizer = optim.Adam(model.parameters(), lr=1e-4)\n",
        "\n",
        "# 학습을 5에폭 돌리겠습니다.\n",
        "EPOCHS = 5\n",
        "for epoch in range(EPOCHS):\n",
        "    # 학습을 수행합니다.\n",
        "    train(train_loader, model, loss_function, optimizer, epoch)\n",
        "    \n",
        "    # 검증을 수행합니다.\n",
        "    evaluate(test_loader, model, loss_function, epoch)"
      ],
      "execution_count": 34,
      "outputs": [
        {
          "output_type": "stream",
          "text": [
            "[Epoch:  0]\tLoss 1.3628\tAcc 0.7411\t\n",
            "[Val Epoch:  0]\tLoss 0.8495\tAcc 0.8472\t\n",
            "----------\n",
            "[Epoch:  1]\tLoss 0.7124\tAcc 0.8530\t\n",
            "[Val Epoch:  1]\tLoss 0.5780\tAcc 0.8762\t\n",
            "----------\n",
            "[Epoch:  2]\tLoss 0.5420\tAcc 0.8737\t\n",
            "[Val Epoch:  2]\tLoss 0.4725\tAcc 0.8903\t\n",
            "----------\n",
            "[Epoch:  3]\tLoss 0.4633\tAcc 0.8851\t\n",
            "[Val Epoch:  3]\tLoss 0.4172\tAcc 0.8978\t\n",
            "----------\n",
            "[Epoch:  4]\tLoss 0.4182\tAcc 0.8923\t\n",
            "[Val Epoch:  4]\tLoss 0.3828\tAcc 0.9032\t\n",
            "----------\n"
          ],
          "name": "stdout"
        }
      ]
    },
    {
      "metadata": {
        "id": "ZilWFJwdPbpk",
        "colab_type": "text"
      },
      "cell_type": "markdown",
      "source": [
        "#### 해봅시다!\n",
        "SimpleDNN으로도 높은 accuracy가 나옵니다. 와...그럼 아까 만들었던 더 복잡한 DNN으로는 어떤 결과가 나올까요? 위 코드를 참조해서 DNN의 결과를 돌려봅시다."
      ]
    },
    {
      "metadata": {
        "id": "TZZB2sjGPbpl",
        "colab_type": "code",
        "colab": {
          "autoexec": {
            "startup": false,
            "wait_interval": 0
          }
        }
      },
      "cell_type": "code",
      "source": [
        "#TODO DNN으로 모델을 만들고, Epoch을 5번 돌려봅시다."
      ],
      "execution_count": 0,
      "outputs": []
    },
    {
      "metadata": {
        "id": "JaHtz5oGPbpn",
        "colab_type": "text"
      },
      "cell_type": "markdown",
      "source": [
        "## CNN 만들어보기\n",
        "- CNN은 필터(커널)을 사용해서 픽셀의 상하좌우, 채널간 관계를 학습하는 방식으로 이미지 처리에 뛰어난 성능을 보입니다.\n",
        "- 따라서 이전 DNN 모델처럼 입력 이미지를 `.view()`함수를 써서 변환할 필요가 없습니다.\n",
        "- 이번에는 다음과 같은 방식으로 모델을 만들어봅시다.\n",
        "  - input > conv1 > relu > pool > conv2 > relu > pool > flatten > fc1 > fc2 \n",
        "  - conv1의 입력채널은 1 (그레이스케일) 출력채널은 32, 필터 사이즈는 3x3으로 합니다.\n",
        "  - pool은 모두 kernel_size=2, stride=2로 합니다.\n",
        "  - conv2의 입력 채널은 32, 출력 채널은 64, 필터 사이즈는 3x3으로 합니다.\n",
        "  - 두번째 풀링이 끝나면 (배치사이즈, -1)로 flatten을 수행합니다.\n",
        "  - fc1의 입력 뉴런 수는 1600, 출력 뉴런수는 1024로 합니다.\n",
        "  - fc2의 입력 뉴런 수는 1024, 출력 뉴런수는 10으로 합니다.\n",
        "  \n",
        "  ![image](https://docs.google.com/uc?export=download&id=1EZfQy8usvPMLsSPC_eARjN3bSaIovOsX =250x)\n"
      ]
    },
    {
      "metadata": {
        "id": "a14tjkjmPbpo",
        "colab_type": "code",
        "colab": {
          "autoexec": {
            "startup": false,
            "wait_interval": 0
          }
        }
      },
      "cell_type": "code",
      "source": [
        "#TODO: CNN 만들기\n",
        "class CNN(nn.Module):\n",
        "    def __init__(self):\n",
        "        super(CNN, self).__init__()\n",
        "        self.conv1 = nn.Conv2d(1, 32, 3)\n",
        "        self.pool = nn.MaxPool2d(2, 2)\n",
        "        \n",
        "        #TODO: conv2\n",
        "        self.conv2 = None\n",
        "        self.fc1 = nn.Linear(1600, 1024)\n",
        "        \n",
        "        #TODO: fc2\n",
        "        self.fc2 = None\n",
        "        \n",
        "    def forward(self, inputs):\n",
        "        \n",
        "        # 1st conv \n",
        "        x = self.conv1(inputs)\n",
        "        x = F.relu(x)\n",
        "        x = self.pool(x)\n",
        "        \n",
        "        #TODO: 2nd conv\n",
        "        x = None #conv2\n",
        "        x = None #ReLU\n",
        "        x = None #pool\n",
        "        \n",
        "        x = x.view(inputs.size()[0], -1)\n",
        "        x = F.relu(self.fc1(x))\n",
        "        x = self.fc2(x)\n",
        "        \n",
        "        return x"
      ],
      "execution_count": 0,
      "outputs": []
    },
    {
      "metadata": {
        "id": "K0UF6pp4Pbpq",
        "colab_type": "code",
        "colab": {
          "autoexec": {
            "startup": false,
            "wait_interval": 0
          },
          "base_uri": "https://localhost:8080/",
          "height": 272
        },
        "outputId": "49b4f81d-9ef9-4704-8fb7-528da72f7a29",
        "executionInfo": {
          "status": "ok",
          "timestamp": 1527521628164,
          "user_tz": -540,
          "elapsed": 70663,
          "user": {
            "displayName": "Junsik Whang",
            "photoUrl": "//lh6.googleusercontent.com/-DkE8jXy03FI/AAAAAAAAAAI/AAAAAAAAANI/vd9Dy8eMliQ/s50-c-k-no/photo.jpg",
            "userId": "114960467352657332488"
          }
        }
      },
      "cell_type": "code",
      "source": [
        "# 데이터셋을 초기화합니다.\n",
        "train_loader, test_loader = initialize_dataset()\n",
        "\n",
        "# 모델을 지정합니다. 기본 모델인 SimpleDNN으로 해보겠습니다.\n",
        "model = CNN().to(device)\n",
        "\n",
        "# loss 함수와 optimizer를 지정합니다.\n",
        "loss_function = nn.CrossEntropyLoss()\n",
        "optimizer = optim.Adam(model.parameters(), lr=1e-4)\n",
        "\n",
        "# 학습을 5에폭 돌리겠습니다.\n",
        "EPOCHS = 5\n",
        "for epoch in range(EPOCHS):\n",
        "    # 학습을 수행합니다.\n",
        "    train(train_loader, model, loss_function, optimizer, epoch)\n",
        "    \n",
        "    # 검증을 수행합니다.\n",
        "    evaluate(test_loader, model, loss_function, epoch)"
      ],
      "execution_count": 35,
      "outputs": [
        {
          "output_type": "stream",
          "text": [
            "[Epoch:  0]\tLoss 0.3720\tAcc 0.9045\t\n",
            "[Val Epoch:  0]\tLoss 0.1119\tAcc 0.9678\t\n",
            "----------\n",
            "[Epoch:  1]\tLoss 0.0998\tAcc 0.9706\t\n",
            "[Val Epoch:  1]\tLoss 0.0663\tAcc 0.9808\t\n",
            "----------\n",
            "[Epoch:  2]\tLoss 0.0695\tAcc 0.9793\t\n",
            "[Val Epoch:  2]\tLoss 0.0491\tAcc 0.9844\t\n",
            "----------\n",
            "[Epoch:  3]\tLoss 0.0542\tAcc 0.9835\t\n",
            "[Val Epoch:  3]\tLoss 0.0497\tAcc 0.9843\t\n",
            "----------\n",
            "[Epoch:  4]\tLoss 0.0455\tAcc 0.9862\t\n",
            "[Val Epoch:  4]\tLoss 0.0447\tAcc 0.9857\t\n",
            "----------\n"
          ],
          "name": "stdout"
        }
      ]
    },
    {
      "metadata": {
        "id": "3s94NTzaPbps",
        "colab_type": "text"
      },
      "cell_type": "markdown",
      "source": [
        "## 모델 저장하기\n",
        "PyTorch에서 권장하는 방식은 모델의 파라미터만 저장하는 것입니다.\n",
        "https://pytorch.org/docs/master/notes/serialization.html#recommend-saving-models"
      ]
    },
    {
      "metadata": {
        "id": "ZCSw0Dz_Pbpt",
        "colab_type": "code",
        "colab": {
          "autoexec": {
            "startup": false,
            "wait_interval": 0
          }
        }
      },
      "cell_type": "code",
      "source": [
        "torch.save(model.state_dict(), \"best_model.pth.tar\")"
      ],
      "execution_count": 0,
      "outputs": []
    },
    {
      "metadata": {
        "id": "jE2cCl01Pbpv",
        "colab_type": "text"
      },
      "cell_type": "markdown",
      "source": [
        "## 모델 불러오기\n",
        "클래스를 사용해 새로운 모델 인스턴스를 생성한다음,\n",
        "`torch.load` 함수와 `load_state_dict` 함수를 사용해서 파라미터를 읽어들입니다."
      ]
    },
    {
      "metadata": {
        "id": "-z4c1SwcPbpv",
        "colab_type": "code",
        "colab": {
          "autoexec": {
            "startup": false,
            "wait_interval": 0
          }
        }
      },
      "cell_type": "code",
      "source": [
        "new_cnn = CNN()\n",
        "new_cnn.load_state_dict(torch.load(\"best_model.pth.tar\"))"
      ],
      "execution_count": 0,
      "outputs": []
    },
    {
      "metadata": {
        "id": "grlk01QSPbpx",
        "colab_type": "text"
      },
      "cell_type": "markdown",
      "source": [
        "### 내 글씨를 분류해보자!\n",
        "자, 이제 새로운 데이터를 한번 넣어볼까요?\n",
        "https://sketch.io/sketchpad/ 에서 나만의 숫자 글씨를 써본다음,\n",
        "숫자가 한가운데 오도록 crop하고 다운로드합니다.\n",
        "그리고 주피터 노트북에서 읽을 수 있도록, 도커 컨테이터와 연결된 디렉토리에 집어넣습니다.\n",
        "이 과정이 귀찮다면 제가 쓴 숫자를 읽어봅시다."
      ]
    },
    {
      "metadata": {
        "id": "HgY3Jpo7Whfa",
        "colab_type": "code",
        "colab": {
          "autoexec": {
            "startup": false,
            "wait_interval": 0
          },
          "base_uri": "https://localhost:8080/",
          "height": 34
        },
        "outputId": "55b9a1ca-5205-4821-f4aa-3b21f7c83283",
        "executionInfo": {
          "status": "ok",
          "timestamp": 1527521660647,
          "user_tz": -540,
          "elapsed": 579,
          "user": {
            "displayName": "Junsik Whang",
            "photoUrl": "//lh6.googleusercontent.com/-DkE8jXy03FI/AAAAAAAAAAI/AAAAAAAAANI/vd9Dy8eMliQ/s50-c-k-no/photo.jpg",
            "userId": "114960467352657332488"
          }
        }
      },
      "cell_type": "code",
      "source": [
        "import PIL\n",
        "PIL.__version__"
      ],
      "execution_count": 38,
      "outputs": [
        {
          "output_type": "execute_result",
          "data": {
            "text/plain": [
              "'5.1.0'"
            ]
          },
          "metadata": {
            "tags": []
          },
          "execution_count": 38
        }
      ]
    },
    {
      "metadata": {
        "id": "CjVvMI-sPbp1",
        "colab_type": "code",
        "colab": {
          "autoexec": {
            "startup": false,
            "wait_interval": 0
          },
          "base_uri": "https://localhost:8080/",
          "height": 707
        },
        "outputId": "299e5167-9f11-4be0-e590-832e4cbf471f",
        "executionInfo": {
          "status": "ok",
          "timestamp": 1527521662481,
          "user_tz": -540,
          "elapsed": 661,
          "user": {
            "displayName": "Junsik Whang",
            "photoUrl": "//lh6.googleusercontent.com/-DkE8jXy03FI/AAAAAAAAAAI/AAAAAAAAANI/vd9Dy8eMliQ/s50-c-k-no/photo.jpg",
            "userId": "114960467352657332488"
          }
        }
      },
      "cell_type": "code",
      "source": [
        "# 제가 쓴 숫자 2입니다.\n",
        "my_image = PIL.Image.open(\"pytorch_jupyter/img/mnist_7.png\").convert(\"L\")\n",
        "my_image"
      ],
      "execution_count": 39,
      "outputs": [
        {
          "output_type": "execute_result",
          "data": {
            "image/png": "[encoded data removed]",
            "text/plain": [
              "<PIL.Image.Image image mode=L size=694x690 at 0x7F17CBAACB70>"
            ]
          },
          "metadata": {
            "tags": []
          },
          "execution_count": 39
        }
      ]
    },
    {
      "metadata": {
        "id": "VKo9JzciPbp2",
        "colab_type": "code",
        "colab": {
          "autoexec": {
            "startup": false,
            "wait_interval": 0
          }
        }
      },
      "cell_type": "code",
      "source": [
        "# 간단한 predict함수를 만들었습니다.\n",
        "def predict(model, img):\n",
        "    model.eval()\n",
        "    \n",
        "    # 맨위에서 설정한 transform 파이프라인 함수입니다.\n",
        "    # PIL 이미지를 28x28 사이즈로 바꾸고 숫자로 변환합니다.\n",
        "    my_image_tensor = transform(img)\n",
        "    \n",
        "    # 위에서는 batch_size가 64였는데, 여기는 1개라서\n",
        "    # 배치 차원이 없습니다. 0번째 차원을 추가해줍니다.\n",
        "    tensor = my_image_tensor.unsqueeze(0)\n",
        "    \n",
        "    # 모델이 무슨 숫자로 읽었는지 출력합니다.\n",
        "    print(model(tensor).argmax(dim=1).item())"
      ],
      "execution_count": 0,
      "outputs": []
    },
    {
      "metadata": {
        "id": "Ymb6SD6APbp4",
        "colab_type": "code",
        "colab": {
          "autoexec": {
            "startup": false,
            "wait_interval": 0
          },
          "base_uri": "https://localhost:8080/",
          "height": 34
        },
        "outputId": "64f0119b-6995-4156-ef2a-414a39d89f0e",
        "executionInfo": {
          "status": "ok",
          "timestamp": 1527521666932,
          "user_tz": -540,
          "elapsed": 621,
          "user": {
            "displayName": "Junsik Whang",
            "photoUrl": "//lh6.googleusercontent.com/-DkE8jXy03FI/AAAAAAAAAAI/AAAAAAAAANI/vd9Dy8eMliQ/s50-c-k-no/photo.jpg",
            "userId": "114960467352657332488"
          }
        }
      },
      "cell_type": "code",
      "source": [
        "predict(new_cnn, my_image)"
      ],
      "execution_count": 41,
      "outputs": [
        {
          "output_type": "stream",
          "text": [
            "7\n"
          ],
          "name": "stdout"
        }
      ]
    },
    {
      "metadata": {
        "id": "4Ip9IAIyqQ8e",
        "colab_type": "text"
      },
      "cell_type": "markdown",
      "source": [
        "### 해봅시다!\n",
        "\n",
        "이번에는 여러분이 만든 손글씨를 넣어 predict 함수에 넣고 실행해봅시다.\n",
        "바로 아래 셀을 실행시키고 업로드 버튼을 눌러 여러분의 손글씨 이미지를 넣어보아요.\n",
        "현재 디렉토리에 바로 올라가기 때문에 \"filename.png\" 등으로 바로 접근할 수 있습니다."
      ]
    },
    {
      "metadata": {
        "id": "JQbWQvEvqbut",
        "colab_type": "code",
        "colab": {
          "autoexec": {
            "startup": false,
            "wait_interval": 0
          },
          "resources": {
            "http://localhost:8080/nbextensions/google.colab/files.js": {
              "data": "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",
              "ok": true,
              "headers": [
                [
                  "content-type",
                  "application/javascript"
                ]
              ],
              "status": 200,
              "status_text": ""
            }
          },
          "base_uri": "https://localhost:8080/",
          "height": 86
        },
        "outputId": "e1b00386-3fad-4690-98c2-02dee5f98caf",
        "executionInfo": {
          "status": "ok",
          "timestamp": 1527559957772,
          "user_tz": -540,
          "elapsed": 10940,
          "user": {
            "displayName": "Junsik Whang",
            "photoUrl": "//lh6.googleusercontent.com/-DkE8jXy03FI/AAAAAAAAAAI/AAAAAAAAANI/vd9Dy8eMliQ/s50-c-k-no/photo.jpg",
            "userId": "114960467352657332488"
          }
        }
      },
      "cell_type": "code",
      "source": [
        "from google.colab import files\n",
        "\n",
        "uploaded = files.upload()\n",
        "\n",
        "for fn in uploaded.keys():\n",
        "  print('User uploaded file \"{name}\" with length {length} bytes'.format(\n",
        "      name=fn, length=len(uploaded[fn])))"
      ],
      "execution_count": 5,
      "outputs": [
        {
          "output_type": "display_data",
          "data": {
            "text/html": [
              "\n",
              "     <input type=\"file\" id=\"files-4edfa9b0-4aa7-41f4-8714-3180b87b353c\" name=\"files[]\" multiple disabled />\n",
              "     <output id=\"result-4edfa9b0-4aa7-41f4-8714-3180b87b353c\">\n",
              "      Upload widget is only available when the cell has been executed in the\n",
              "      current browser session. Please rerun this cell to enable.\n",
              "      </output>\n",
              "      <script src=\"/nbextensions/google.colab/files.js\"></script> "
            ],
            "text/plain": [
              "<IPython.core.display.HTML object>"
            ]
          },
          "metadata": {
            "tags": []
          }
        },
        {
          "output_type": "stream",
          "text": [
            "Saving mnist_7.png to mnist_7.png\n",
            "User uploaded file \"mnist_7.png\" with length 24845 bytes\n"
          ],
          "name": "stdout"
        }
      ]
    },
    {
      "metadata": {
        "id": "d7vITUusqde-",
        "colab_type": "code",
        "colab": {
          "autoexec": {
            "startup": false,
            "wait_interval": 0
          }
        }
      },
      "cell_type": "code",
      "source": [
        "#TODO\n",
        "#predict(...)"
      ],
      "execution_count": 0,
      "outputs": []
    },
    {
      "metadata": {
        "id": "5TtKL7QwPbp5",
        "colab_type": "text"
      },
      "cell_type": "markdown",
      "source": [
        "### 성공했습니다!\n",
        "제가 오늘 준비한 내용은 여기까지입니다. 짧은 시간 들으시느라 고생많으셨습니다.\n",
        "간단한 DNN, CNN 모델을 만들어보았는데요, 여러 하이퍼파라미터를 변형해보시면 또 재미있는 결과를 얻으실 수 있을 것 같습니다.\n",
        "문제가 생기면 언제든 도커 이미지로 다시 컨테이너를 생성하시면 원본 주피터 노트북을 얻으실 수 있을 겁니다.\n",
        "세션 내용 관련해서 궁금한 점이 있으시면 언제든 황준식[junsik.whang@nexon.co.kr]로 문의주십시오-\n",
        "\n",
        "또 딥러닝 관련해서 더 공부하시려면 다음과 같은 강좌를 추천합니다.\n",
        "- Coursera.org https://www.coursera.org/learn/neural-networks-deep-learning/home/welcome\n",
        "- Sirag Raval https://www.youtube.com/results?search_query=siraj+raval\n",
        "\n",
        "감사합니다!\n",
        "\n",
        "## E.O.D"
      ]
    },
    {
      "metadata": {
        "id": "LKQvele5Pbp5",
        "colab_type": "text"
      },
      "cell_type": "markdown",
      "source": [
        "## Answers"
      ]
    },
    {
      "metadata": {
        "id": "EAuK6VU6Pbp6",
        "colab_type": "text"
      },
      "cell_type": "markdown",
      "source": [
        "### 손글씨 데이터셋 살펴보기"
      ]
    },
    {
      "metadata": {
        "id": "aWWZZucYPbp7",
        "colab_type": "code",
        "colab": {
          "autoexec": {
            "startup": false,
            "wait_interval": 0
          }
        }
      },
      "cell_type": "code",
      "source": [
        "labels"
      ],
      "execution_count": 0,
      "outputs": []
    },
    {
      "metadata": {
        "id": "Bb6kFk2MPbp9",
        "colab_type": "code",
        "colab": {
          "autoexec": {
            "startup": false,
            "wait_interval": 0
          }
        }
      },
      "cell_type": "code",
      "source": [
        "print(train_dataset.train_labels.size())\n",
        "print(test_dataset.test_labels.size())"
      ],
      "execution_count": 0,
      "outputs": []
    },
    {
      "metadata": {
        "id": "3PwdDqi1Pbp-",
        "colab_type": "text"
      },
      "cell_type": "markdown",
      "source": [
        "### 딥러닝 모델 설계하기"
      ]
    },
    {
      "metadata": {
        "id": "pEaxdJhKPbqE",
        "colab_type": "code",
        "colab": {
          "autoexec": {
            "startup": false,
            "wait_interval": 0
          }
        }
      },
      "cell_type": "code",
      "source": [
        "# ANSWER\n",
        "class DNN(nn.Module):\n",
        "    def __init__(self):\n",
        "        super(DNN, self).__init__()\n",
        "        self.fc1 = nn.Linear(784, 256)\n",
        "        \n",
        "        #TODO\n",
        "        self.fc2 = nn.Linear(256, 32)\n",
        "        \n",
        "        self.last_layer = nn.Linear(32, 10)\n",
        "         \n",
        "    def forward(self, inputs):\n",
        "        x = inputs.view(-1, 784)\n",
        "        \n",
        "        x = self.fc1(x)\n",
        "        x = F.relu(x)\n",
        "        \n",
        "        #TODO\n",
        "        x = self.fc2(x)\n",
        "        x = F.relu(x)\n",
        "        \n",
        "        x = self.last_layer(x)\n",
        "        return x"
      ],
      "execution_count": 0,
      "outputs": []
    },
    {
      "metadata": {
        "id": "5jvqIQ8JPbqG",
        "colab_type": "text"
      },
      "cell_type": "markdown",
      "source": [
        "### 평가 함수 만들기"
      ]
    },
    {
      "metadata": {
        "id": "jkmpX54iPbqH",
        "colab_type": "code",
        "colab": {
          "autoexec": {
            "startup": false,
            "wait_interval": 0
          }
        }
      },
      "cell_type": "code",
      "source": [
        "def evaluate(loader, model, loss_function, epoch):\n",
        "    losses = AverageMeter()\n",
        "    accuracy = AverageMeter()\n",
        "    \n",
        "    model.eval()\n",
        "    \n",
        "    for i, (inputs, targets) in enumerate(loader):\n",
        "        inputs, targets = inputs.to(device), targets.to(device)\n",
        "        \n",
        "        outputs = model(inputs)\n",
        "        batch_loss = loss_function(outputs, targets)\n",
        "        \n",
        "        losses.update(batch_loss.item())\n",
        "        \n",
        "        preds = outputs.argmax(dim=1)\n",
        "        batch_accuracy = preds.eq(targets).sum().item() / inputs.size(0)\n",
        "        accuracy.update(batch_accuracy)\n",
        "        \n",
        "    print('[Val Epoch: {0:2d}]\\t'\n",
        "          'Loss {losses.avg:.4f}\\t'\n",
        "          'Acc {accuracy.avg:.4f}\\t'.format(epoch, losses=losses, accuracy=accuracy))\n",
        "    print(\"-\" * 10)"
      ],
      "execution_count": 0,
      "outputs": []
    },
    {
      "metadata": {
        "id": "6lytzU5pPbqI",
        "colab_type": "text"
      },
      "cell_type": "markdown",
      "source": [
        "### 전체 학습시키기"
      ]
    },
    {
      "metadata": {
        "id": "SIMtBp1HPbqJ",
        "colab_type": "code",
        "colab": {
          "autoexec": {
            "startup": false,
            "wait_interval": 0
          }
        }
      },
      "cell_type": "code",
      "source": [
        "# 데이터셋을 초기화합니다.\n",
        "train_loader, test_loader = initialize_dataset()\n",
        "\n",
        "# 모델을 지정합니다.DNN으로 해보겠습니다.\n",
        "model = DNN()    \n",
        "\n",
        "# loss 함수와 optimizer를 지정합니다.\n",
        "loss_function = nn.CrossEntropyLoss()\n",
        "optimizer = optim.Adam(model.parameters(), lr=1e-4)\n",
        "\n",
        "# 학습을 5에폭 돌리겠습니다.\n",
        "EPOCHS = 5\n",
        "for epoch in range(EPOCHS):\n",
        "    # 학습을 수행합니다.\n",
        "    train(train_loader, model, loss_function, optimizer, epoch)\n",
        "    \n",
        "    # 검증을 수행합니다.\n",
        "    evaluate(test_loader, model, loss_function, epoch)"
      ],
      "execution_count": 0,
      "outputs": []
    },
    {
      "metadata": {
        "id": "rsrdx8GIPbqN",
        "colab_type": "text"
      },
      "cell_type": "markdown",
      "source": [
        "### CNN 만들기"
      ]
    },
    {
      "metadata": {
        "id": "LByagZVcPbqN",
        "colab_type": "code",
        "colab": {
          "autoexec": {
            "startup": false,
            "wait_interval": 0
          }
        }
      },
      "cell_type": "code",
      "source": [
        "#TODO: CNN 만들기\n",
        "class CNN(nn.Module):\n",
        "    def __init__(self):\n",
        "        super(CNN, self).__init__()\n",
        "        self.conv1 = nn.Conv2d(1, 32, 3)\n",
        "        self.pool = nn.MaxPool2d(2, 2)\n",
        "        self.conv2 = nn.Conv2d(32, 64, 3)\n",
        "        self.fc1 = nn.Linear(1600, 1024)\n",
        "        self.fc2 = nn.Linear(1024, 10)\n",
        "\n",
        "    def forward(self, inputs):\n",
        "        \n",
        "        # 1st conv \n",
        "        x = self.conv1(inputs)\n",
        "        x = F.relu(x)\n",
        "        x = self.pool(x)\n",
        "        \n",
        "        #TODO: 2nd conv\n",
        "        x = self.conv2(x)\n",
        "        x = F.relu(x)\n",
        "        x = self.pool(x)\n",
        "        \n",
        "        x = x.view(inputs.size()[0], -1)\n",
        "        x = F.relu(self.fc1(x))\n",
        "        x = self.fc2(x)\n",
        "        \n",
        "        return x"
      ],
      "execution_count": 0,
      "outputs": []
    },
    {
      "metadata": {
        "id": "Cr-YF4TwPbqO",
        "colab_type": "code",
        "colab": {
          "autoexec": {
            "startup": false,
            "wait_interval": 0
          }
        }
      },
      "cell_type": "code",
      "source": [
        ""
      ],
      "execution_count": 0,
      "outputs": []
    }
  ]
}